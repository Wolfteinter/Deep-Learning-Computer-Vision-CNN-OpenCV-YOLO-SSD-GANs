{
  "nbformat": 4,
  "nbformat_minor": 0,
  "metadata": {
    "colab": {
      "name": "Procesamiento de imagenes.ipynb",
      "provenance": [],
      "collapsed_sections": [],
      "include_colab_link": true
    },
    "kernelspec": {
      "name": "python3",
      "display_name": "Python 3"
    }
  },
  "cells": [
    {
      "cell_type": "markdown",
      "metadata": {
        "id": "view-in-github",
        "colab_type": "text"
      },
      "source": [
        "<a href=\"https://colab.research.google.com/github/Wolfteinter/Deep-Learning-Computer-Vision-CNN-OpenCV-YOLO-SSD-GANs/blob/master/Procesamiento_de_imagenes.ipynb\" target=\"_parent\"><img src=\"https://colab.research.google.com/assets/colab-badge.svg\" alt=\"Open In Colab\"/></a>"
      ]
    },
    {
      "cell_type": "code",
      "metadata": {
        "id": "e_rgY4BPDYfT",
        "colab_type": "code",
        "colab": {}
      },
      "source": [
        "#Aplicacion de filtro Blur\n",
        "import cv2\n",
        "import numpy as np\n",
        "from google.colab.patches import cv2_imshow\n",
        "\n",
        "image = cv2.imread(\"image.jpg\",cv2.IMREAD_UNCHANGED)\n",
        "cv2_imshow(image)\n",
        "cv2.waitKey()\n",
        "\n",
        "kernel_3x3 = np.ones((3,3),np.float32)/9\n",
        "blurred = cv2.filter2D(image,-1,kernel_3x3)\n",
        "cv2_imshow(blurred)\n",
        "cv2.waitKey()\n",
        "\n",
        "kernel_7x7 = np.ones((7,7),np.float32)/49\n",
        "blurred = cv2.filter2D(image,-1,kernel_7x7)\n",
        "cv2_imshow(blurred)\n",
        "cv2.waitKey()\n",
        "\n",
        "cv2.destroyAllWindows()"
      ],
      "execution_count": 0,
      "outputs": []
    },
    {
      "cell_type": "code",
      "metadata": {
        "id": "nggxDWxnU1FP",
        "colab_type": "code",
        "colab": {}
      },
      "source": [
        "#Binarizacion manual y automatica\n",
        "import cv2\n",
        "import numpy as np\n",
        "from google.colab.patches import cv2_imshow\n",
        "\n",
        "image = cv2.imread(\"Imagenes/page.jpg\",0)\n",
        "cv2_imshow(cv2.resize(image, (0,0), fx=0.2, fy=0.2)) \n",
        "\n",
        "ret,thresh1 = cv2.threshold(image,100,255,cv2.THRESH_BINARY)\n",
        "cv2_imshow(cv2.resize(thresh1, (0,0), fx=0.2, fy=0.2))\n",
        "\n",
        "_,th2 = cv2.threshold(image,0,255,cv2.THRESH_BINARY + cv2.THRESH_OTSU)\n",
        "cv2_imshow(cv2.resize(th2, (0,0), fx=0.2, fy=0.2))"
      ],
      "execution_count": 0,
      "outputs": []
    },
    {
      "cell_type": "code",
      "metadata": {
        "id": "4CYoAk_EYF0N",
        "colab_type": "code",
        "colab": {}
      },
      "source": [
        "#Erosion y dilatacion\n",
        "import cv2\n",
        "import numpy as np\n",
        "from google.colab.patches import cv2_imshow\n",
        "\n",
        "image = cv2.imread(\"Imagenes/page.jpg\")\n",
        "cv2_imshow(cv2.resize(image, (0,0), fx=0.2, fy=0.2))\n",
        "\n",
        "kernel = np.ones((5,5),np.uint8)\n",
        "\n",
        "erosion = cv2.erode(image,kernel,iterations = 1)\n",
        "cv2_imshow(cv2.resize(erosion, (0,0), fx=0.2, fy=0.2))\n",
        "\n",
        "dilation = cv2.dilate(image,kernel,iterations = 1)\n",
        "cv2_imshow(cv2.resize(dilation, (0,0), fx=0.2, fy=0.2))\n"
      ],
      "execution_count": 0,
      "outputs": []
    },
    {
      "cell_type": "code",
      "metadata": {
        "id": "W7wAJ4zzgSYz",
        "colab_type": "code",
        "colab": {}
      },
      "source": [
        "import cv2\n",
        "import numpy as np\n",
        "from google.colab.patches import cv2_imshow\n",
        "\n",
        "image = cv2.imread(\"Imagenes/image.jpg\",0)\n",
        "\n",
        "sobel_x = cv2.Sobel(image,cv2.CV_64F,0,1,ksize = 5)\n",
        "sobel_y = cv2.Sobel(image,cv2.CV_64F,1,0,ksize = 5)\n",
        "cv2_imshow(image)\n",
        "cv2_imshow(sobel_x)\n",
        "cv2_imshow(sobel_y)\n",
        "\n",
        "canny = cv2.Canny(image,100,170)\n",
        "cv2_imshow(canny)"
      ],
      "execution_count": 0,
      "outputs": []
    },
    {
      "cell_type": "code",
      "metadata": {
        "id": "GsGSnORxzxn7",
        "colab_type": "code",
        "outputId": "38f892d5-fc25-4421-f7c0-6649ebc28621",
        "colab": {
          "base_uri": "https://localhost:8080/",
          "height": 617
        }
      },
      "source": [
        "import cv2\n",
        "import numpy as np\n",
        "from google.colab.patches import cv2_imshow\n",
        "\n",
        "image = cv2.imread(\"imagenes/hoja2.jpg\")\n",
        "cv2_imshow(image)\n",
        "\n",
        "gray = cv2.cvtColor(image,cv2.COLOR_BGR2GRAY)\n",
        "edged = cv2.Canny(gray,20,200) \n",
        "cv2_imshow(edged)\n",
        "\n",
        "result = cv2.findContours(edged,cv2.RETR_EXTERNAL,cv2.CHAIN_APPROX_NONE)\n",
        "contours, hierarchy = result if len(result) == 2 else result[1:3]\n",
        "cv2.drawContours(image,contours,-1,(0,255,0),3)\n",
        "cv2_imshow(image)"
      ],
      "execution_count": 0,
      "outputs": [
        {
          "output_type": "display_data",
          "data": {
            "image/png": "[encoded data removed]",
            "text/plain": [
              "<PIL.Image.Image image mode=RGB size=300x200 at 0x7FB7B1D12198>"
            ]
          },
          "metadata": {
            "tags": []
          }
        },
        {
          "output_type": "display_data",
          "data": {
            "image/png": "[encoded data removed]",
            "text/plain": [
              "<PIL.Image.Image image mode=L size=300x200 at 0x7FB7B1D12198>"
            ]
          },
          "metadata": {
            "tags": []
          }
        },
        {
          "output_type": "display_data",
          "data": {
            "image/png": "[encoded data removed]",
            "text/plain": [
              "<PIL.Image.Image image mode=RGB size=300x200 at 0x7FB7B1D12240>"
            ]
          },
          "metadata": {
            "tags": []
          }
        }
      ]
    },
    {
      "cell_type": "code",
      "metadata": {
        "id": "jLdpRn-ySZVe",
        "colab_type": "code",
        "colab": {}
      },
      "source": [
        "import cv2 \n",
        "import numpy as np\n",
        "from google.colab.patches import cv2_imshow\n",
        "\n",
        "image = cv2.imread(\"imagenes/figuras.png\")\n",
        "height, width = image.shape[0:2]\n",
        "fondo = np.zeros((height,width,3))\n",
        "gray = cv2.cvtColor(image,cv2.COLOR_BGR2GRAY)\n",
        "cv2_imshow(gray)\n",
        "\n",
        "edged = cv2.Canny(gray,30,200)\n",
        "cv2_imshow(edged)\n",
        "\n",
        "contours,hierarchy = cv2.findContours(edged,cv2.RETR_EXTERNAL,cv2.CHAIN_APPROX_NONE)[1:3]\n",
        "cv2.drawContours(image,contours,-1,(0,255,0),3)\n",
        "cv2_imshow(image)\n"
      ],
      "execution_count": 0,
      "outputs": []
    },
    {
      "cell_type": "code",
      "metadata": {
        "id": "wIPWLbBUX1FT",
        "colab_type": "code",
        "colab": {}
      },
      "source": [
        "import cv2\n",
        "import numpy as np\n",
        "from google.colab.patches import cv2_imshow\n",
        "\n",
        "image = cv2.imread(\"imagenes/figuras.png\")\n",
        "gray = cv2.cvtColor(image,cv2.COLOR_BGR2GRAY)\n",
        "edged = cv2.Canny(gray,30,200)\n",
        "contours,hierarchy = cv2.findContours(edged,cv2.RETR_EXTERNAL,cv2.CHAIN_APPROX_NONE)[1:3]\n",
        "cv2_imshow(image)\n",
        "for i in contours:\n",
        "  M = cv2.moments(i)\n",
        "  x1 = int(M[\"m10\"]/M[\"m00\"])\n",
        "  y1 = int(M[\"m01\"]/M[\"m00\"])\n",
        "  #cv2.putText(image,\"Figura\",(x1,y1),cv2.FONT_HERSHEY_SIMPLEX,.5,(0,255,0),2)\n",
        "  (x,y,w,h) = cv2.boundingRect(i)\n",
        "  recortada = image[y:y+h,x:x+w]\n",
        "  cv2_imshow(recortada)"
      ],
      "execution_count": 0,
      "outputs": []
    },
    {
      "cell_type": "code",
      "metadata": {
        "id": "fuo0zOG_sDwm",
        "colab_type": "code",
        "colab": {}
      },
      "source": [
        "#Aproximar contornos\n",
        "import cv2\n",
        "import numpy as np\n",
        "from google.colab.patches import cv2_imshow\n",
        "image = cv2.imread(\"imagenes/casa.png\")\n",
        "image_orig = image.copy()\n",
        "cv2_imshow(image)\n",
        "gray = cv2.cvtColor(image,cv2.COLOR_BGR2GRAY)\n",
        "ret, thresh = cv2.threshold(gray,200,255,cv2.THRESH_BINARY_INV)\n",
        "cv2_imshow(thresh)\n",
        "contours,hierarchy = cv2.findContours(thresh.copy(),cv2.RETR_LIST,cv2.CHAIN_APPROX_NONE)[1:3]\n",
        "for c in contours:\n",
        "  x,y,w,h = cv2.boundingRect(c)\n",
        "  cv2.rectangle(image_orig,(x,y),(x+w,y+h),(0,0,255),2)\n",
        "  cv2_imshow(image_orig)\n",
        "\n",
        "for c in contours:\n",
        "  accuracy = 0.03 * cv2.arcLength(c,True)\n",
        "  approx = cv2.approxPolyDP(c,accuracy,True)\n",
        "  cv2.drawContours(image,[approx],0,(0,255,0),2)\n",
        "  cv2_imshow(image)"
      ],
      "execution_count": 0,
      "outputs": []
    },
    {
      "cell_type": "code",
      "metadata": {
        "id": "8ZAQQWpwHVM5",
        "colab_type": "code",
        "colab": {}
      },
      "source": [
        "#convex hull \n",
        "import cv2\n",
        "import numpy as np\n",
        "from google.colab.patches import cv2_imshow\n",
        "\n",
        "image = cv2.imread(\"imagenes/mano.png\")\n",
        "gray = cv2.cvtColor(image,cv2.COLOR_BGR2GRAY)\n",
        "ret, thresh = cv2.threshold(gray,176,255,0)\n",
        "contours,hierarchy = cv2.findContours(thresh.copy(),cv2.RETR_LIST,cv2.CHAIN_APPROX_NONE)[1:3]\n",
        "n = len(contours) -1\n",
        "contours = sorted(contours,key=cv2.contourArea,reverse=False)[:n]\n",
        "\n",
        "for c in contours:\n",
        "  hull = cv2.convexHull(c)\n",
        "  cv2.drawContours(image,[hull],0,(0,255,0),2)\n",
        "  cv2_imshow(image)"
      ],
      "execution_count": 0,
      "outputs": []
    },
    {
      "cell_type": "code",
      "metadata": {
        "id": "lNwF2jcS5RNA",
        "colab_type": "code",
        "colab": {}
      },
      "source": [
        "Shape maching\n",
        "import cv2 \n",
        "import numpy as np\n",
        "from google.colab.patches import cv2_imshow\n",
        "\n",
        "template = cv2.imread(\"imagenes/star.jpg\",0)\n",
        "target = cv2.imread(\"imagenes/shapes.jpg\")\n",
        "target_grey = cv2.cvtColor(target,cv2.COLOR_BGR2GRAY)\n",
        "\n",
        "ret, thresh1 = cv2.threshold(template,127,255,0)\n",
        "ret, thresh2 = cv2.threshold(target_grey,127,255,0)\n",
        "\n",
        "contours,hierarchy = cv2.findContours(thresh1,cv2.RETR_CCOMP,cv2.CHAIN_APPROX_SIMPLE)[1:3]\n",
        "\n",
        "sorted_contours = sorted(contours,key = cv2.contourArea,reverse = True)\n",
        "\n",
        "templete_contours = contours[1]\n",
        "\n",
        "contours,hierarchy = cv2.findContours(thresh2,cv2.RETR_CCOMP,cv2.CHAIN_APPROX_SIMPLE)[1:3]\n",
        "\n",
        "for c in contours:\n",
        "  match = cv2.matchShapes(templete_contours,c,1,0.0)\n",
        "  if(match < 0.15):\n",
        "    closest_contour = c\n",
        "  else:\n",
        "    closest_contour = []\n",
        "cv2.drawContours(target,[closest_contour],-1(0,255,0),3)\n",
        "cv2_imshow(target)\n"
      ],
      "execution_count": 0,
      "outputs": []
    },
    {
      "cell_type": "code",
      "metadata": {
        "id": "DDSeIMTO88Y4",
        "colab_type": "code",
        "colab": {}
      },
      "source": [
        "import numpy as np\n",
        "import cv2\n",
        "from google.colab.patches import cv2_imshow\n",
        "\n",
        "\n",
        "image = cv2.imread('images/someshapes.jpg')\n",
        "gray = cv2.cvtColor(image, cv2.COLOR_BGR2GRAY)\n",
        "\n",
        "cv2_imshow(image)\n",
        "cv2.waitKey(0)\n",
        "\n",
        "ret, thresh = cv2.threshold(gray, 127, 255, 1)\n",
        "\n",
        "\n",
        "_, contours, hierarchy = cv2.findContours(thresh.copy(), cv2.RETR_LIST, cv2.CHAIN_APPROX_NONE)\n",
        "\n",
        "for cnt in contours:\n",
        "    \n",
        "  \n",
        "    approx = cv2.approxPolyDP(cnt, 0.01*cv2.arcLength(cnt,True),True)\n",
        "    \n",
        "    if len(approx) == 3:\n",
        "        shape_name = \"Triangle\"\n",
        "        cv2.drawContours(image,[cnt],0,(0,255,0),-1)\n",
        "        \n",
        "\n",
        "        M = cv2.moments(cnt)\n",
        "        cx = int(M['m10'] / M['m00'])\n",
        "        cy = int(M['m01'] / M['m00'])\n",
        "        cv2.putText(image, shape_name, (cx-50, cy), cv2.FONT_HERSHEY_SIMPLEX, 1, (0, 0, 0), 1)\n",
        "    \n",
        "    elif len(approx) == 4:\n",
        "        x,y,w,h = cv2.boundingRect(cnt)\n",
        "        M = cv2.moments(cnt)\n",
        "        cx = int(M['m10'] / M['m00'])\n",
        "        cy = int(M['m01'] / M['m00'])\n",
        "      \n",
        "        if abs(w-h) <= 3:\n",
        "            shape_name = \"Square\"\n",
        "            \n",
        "   \n",
        "            cv2.drawContours(image, [cnt], 0, (0, 125 ,255), -1)\n",
        "            cv2.putText(image, shape_name, (cx-50, cy), cv2.FONT_HERSHEY_SIMPLEX, 1, (0, 0, 0), 1)\n",
        "        else:\n",
        "            shape_name = \"Rectangle\"\n",
        "            \n",
        "      \n",
        "            cv2.drawContours(image, [cnt], 0, (0, 0, 255), -1)\n",
        "            M = cv2.moments(cnt)\n",
        "            cx = int(M['m10'] / M['m00'])\n",
        "            cy = int(M['m01'] / M['m00'])\n",
        "            cv2.putText(image, shape_name, (cx-50, cy), cv2.FONT_HERSHEY_SIMPLEX, 1, (0, 0, 0), 1)\n",
        "            \n",
        "    elif len(approx) == 10:\n",
        "        shape_name = \"Star\"\n",
        "        cv2.drawContours(image, [cnt], 0, (255, 255, 0), -1)\n",
        "        M = cv2.moments(cnt)\n",
        "        cx = int(M['m10'] / M['m00'])\n",
        "        cy = int(M['m01'] / M['m00'])\n",
        "        cv2.putText(image, shape_name, (cx-50, cy), cv2.FONT_HERSHEY_SIMPLEX, 1, (0, 0, 0), 1)\n",
        "        \n",
        "        \n",
        "        \n",
        "    elif len(approx) >= 15:\n",
        "        shape_name = \"Circle\"\n",
        "        cv2.drawContours(image, [cnt], 0, (0, 255, 255), -1)\n",
        "        M = cv2.moments(cnt)\n",
        "        cx = int(M['m10'] / M['m00'])\n",
        "        cy = int(M['m01'] / M['m00'])\n",
        "        cv2.putText(image, shape_name, (cx-50, cy), cv2.FONT_HERSHEY_SIMPLEX, 1, (0, 0, 0), 1)\n",
        "\n",
        "    cv2_imshow(image)\n",
        "    cv2.waitKey(0)\n",
        "    \n",
        "cv2.destroyAllWindows()"
      ],
      "execution_count": 0,
      "outputs": []
    }
  ]
}